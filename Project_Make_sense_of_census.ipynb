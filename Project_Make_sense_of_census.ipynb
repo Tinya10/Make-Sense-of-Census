{
 "cells": [
  {
   "cell_type": "code",
   "execution_count": 2,
   "metadata": {},
   "outputs": [],
   "source": [
    "import numpy as np"
   ]
  },
  {
   "cell_type": "code",
   "execution_count": 3,
   "metadata": {},
   "outputs": [
    {
     "name": "stdout",
     "output_type": "stream",
     "text": [
      "[[39. 13.  4. ...  0. 40.  0.]\n",
      " [50. 13.  4. ...  0. 13.  0.]\n",
      " [38.  9.  4. ...  0. 40.  0.]\n",
      " ...\n",
      " [48. 13.  4. ...  0. 58.  1.]\n",
      " [40. 10.  4. ...  0. 40.  0.]\n",
      " [39. 13.  4. ...  0. 50.  1.]]\n"
     ]
    }
   ],
   "source": [
    "#importing the dataset to perform analysis ans saving it into numpy array\n",
    "data_file = \"G:/Data Science ML AI/Data course files/Make_sense_of_census1.csv\"\n",
    "data = np.genfromtxt(data_file, delimiter=\",\",skip_header=1)\n",
    "print(data)"
   ]
  },
  {
   "cell_type": "code",
   "execution_count": 4,
   "metadata": {},
   "outputs": [
    {
     "name": "stdout",
     "output_type": "stream",
     "text": [
      "[[50, 9, 4, 1, 0, 0, 40, 0]]\n"
     ]
    }
   ],
   "source": [
    "#New record\n",
    "new_record = [[50, 9, 4, 1, 0, 0, 40, 0]]\n",
    "print(new_record)"
   ]
  },
  {
   "cell_type": "code",
   "execution_count": 5,
   "metadata": {},
   "outputs": [
    {
     "name": "stdout",
     "output_type": "stream",
     "text": [
      "[[39. 13.  4. ...  0. 40.  0.]\n",
      " [50. 13.  4. ...  0. 13.  0.]\n",
      " [38.  9.  4. ...  0. 40.  0.]\n",
      " ...\n",
      " [40. 10.  4. ...  0. 40.  0.]\n",
      " [39. 13.  4. ...  0. 50.  1.]\n",
      " [50.  9.  4. ...  0. 40.  0.]]\n",
      "(1001, 8)\n"
     ]
    }
   ],
   "source": [
    "#Concatenating the new record to the existing numpy array\n",
    "census = np.concatenate((data, new_record),axis=0)\n",
    "print(census)\n",
    "print(census.shape)"
   ]
  },
  {
   "cell_type": "code",
   "execution_count": 6,
   "metadata": {},
   "outputs": [
    {
     "name": "stdout",
     "output_type": "stream",
     "text": [
      "[39. 50. 38. ... 40. 39. 50.]\n"
     ]
    }
   ],
   "source": [
    "#Subsetting the array to include only 'Age' column\n",
    "age = census[:,0]\n",
    "print(age)"
   ]
  },
  {
   "cell_type": "code",
   "execution_count": 7,
   "metadata": {},
   "outputs": [
    {
     "name": "stdout",
     "output_type": "stream",
     "text": [
      "90.0\n",
      "17.0\n"
     ]
    }
   ],
   "source": [
    "#Finding the max and min age\n",
    "max_age = max(age)\n",
    "min_age = min(age)\n",
    "print(max_age)\n",
    "print(min_age)"
   ]
  },
  {
   "cell_type": "code",
   "execution_count": 8,
   "metadata": {},
   "outputs": [
    {
     "name": "stdout",
     "output_type": "stream",
     "text": [
      "The mean age of dataset is: 38.0\n",
      "The standard deviation of age of dataset is: 13.0\n"
     ]
    }
   ],
   "source": [
    "#Finding the mean age and standard deviation of age\n",
    "age_mean = round(age.mean())\n",
    "age_std = round(age.std())\n",
    "print(\"The mean age of dataset is:\",age_mean)\n",
    "print(\"The standard deviation of age of dataset is:\",age_std)"
   ]
  },
  {
   "cell_type": "code",
   "execution_count": 9,
   "metadata": {},
   "outputs": [
    {
     "name": "stdout",
     "output_type": "stream",
     "text": [
      "Citizen count for race 0 is: 10\n",
      "Citizen count for race 1 is: 27\n",
      "Citizen count for race 2 is: 110\n",
      "Citizen count for race 3 is: 6\n",
      "Citizen count for race 4 is: 848\n"
     ]
    }
   ],
   "source": [
    "#Creating new subsets based on 'Race'\n",
    "race_0 = census[census[:,2]==0]\n",
    "race_1 = census[census[:,2]==1]\n",
    "race_2 = census[census[:,2]==2]\n",
    "race_3 = census[census[:,2]==3]\n",
    "race_4 = census[census[:,2]==4]\n",
    "\n",
    "#Finding the length of the above created subsets\n",
    "len_0 = len(race_0)\n",
    "len_1 = len(race_1)\n",
    "len_2 = len(race_2)\n",
    "len_3 = len(race_3)\n",
    "len_4 = len(race_4)\n",
    "\n",
    "#Printing the length of the above created subsets\n",
    "print(\"Citizen count for race 0 is:\",len_0)\n",
    "print(\"Citizen count for race 1 is:\",len_1)\n",
    "print(\"Citizen count for race 2 is:\",len_2)\n",
    "print(\"Citizen count for race 3 is:\",len_3)\n",
    "print(\"Citizen count for race 4 is:\",len_4)\n"
   ]
  },
  {
   "cell_type": "code",
   "execution_count": 10,
   "metadata": {},
   "outputs": [
    {
     "name": "stdout",
     "output_type": "stream",
     "text": [
      "[10, 27, 110, 6, 848]\n",
      "The minority race is: 3\n"
     ]
    }
   ],
   "source": [
    "#Storing the different race lengths with appropriate indexes\n",
    "race_list_count = [len_0,len_1,len_2,len_3,len_4]\n",
    "print(race_list_count)\n",
    "\n",
    "#Storing the race with minimum length into a variable \n",
    "minority_race = race_list_count.index(min(race_list_count))\n",
    "print(\"The minority race is:\",minority_race)"
   ]
  },
  {
   "cell_type": "code",
   "execution_count": 11,
   "metadata": {},
   "outputs": [
    {
     "name": "stdout",
     "output_type": "stream",
     "text": [
      "1917.0\n",
      "count of senior citizens is : 61\n"
     ]
    }
   ],
   "source": [
    "#Subsetting the array based on the age to filter senior citizens\n",
    "senior_citizens = census[census[:,0]>60]\n",
    "\n",
    "#Calculating the sum of all the values of array to get working hours for senior citizens\n",
    "working_hours_sum = senior_citizens.sum(axis=0)[6]\n",
    "print(working_hours_sum)\n",
    "\n",
    "#Finding the length of the senior_citizens array\n",
    "senior_citizens_len = len(senior_citizens)\n",
    "print(\"count of senior citizens is :\",senior_citizens_len)\n",
    "\n",
    "\n"
   ]
  },
  {
   "cell_type": "code",
   "execution_count": 12,
   "metadata": {},
   "outputs": [
    {
     "name": "stdout",
     "output_type": "stream",
     "text": [
      "Average working hours for senior citizens are : 31.0\n"
     ]
    }
   ],
   "source": [
    "#Finding the average working hours for senior citizens\n",
    "avg_working_hours = round(working_hours_sum/senior_citizens_len)\n",
    "print(\"Average working hours for senior citizens are :\",avg_working_hours)"
   ]
  },
  {
   "cell_type": "code",
   "execution_count": 13,
   "metadata": {},
   "outputs": [
    {
     "name": "stdout",
     "output_type": "stream",
     "text": [
      "Number of highly educated people: 327\n",
      "Number of low educated people: 674\n"
     ]
    }
   ],
   "source": [
    "#Creating an array based on 'education' column to find high education level and low eductaion level\n",
    "high = census[census[:,1]>10]\n",
    "low = census[census[:,1]<=10]\n",
    "\n",
    "print(\"Number of highly educated people:\",len(high))\n",
    "print(\"Number of low educated people:\",len(low))"
   ]
  },
  {
   "cell_type": "code",
   "execution_count": 16,
   "metadata": {},
   "outputs": [
    {
     "name": "stdout",
     "output_type": "stream",
     "text": [
      "The average pay of people with high eduation is : 0.42813455657492355\n",
      "The average pay of people with low education is : 0.13649851632047477\n"
     ]
    }
   ],
   "source": [
    "#Finding the high average pay (finding the mean for high array from income column)\n",
    "avg_pay_high = high[:,7].mean()\n",
    "print(\"The average pay of people with high eduation is :\",avg_pay_high)\n",
    "\n",
    "#Finding the low average pay (finding the mean for low array from income column)\n",
    "avg_pay_low = low[:,7].mean()\n",
    "print(\"The average pay of people with low education is :\",avg_pay_low)"
   ]
  }
 ],
 "metadata": {
  "kernelspec": {
   "display_name": "Python 3",
   "language": "python",
   "name": "python3"
  },
  "language_info": {
   "codemirror_mode": {
    "name": "ipython",
    "version": 3
   },
   "file_extension": ".py",
   "mimetype": "text/x-python",
   "name": "python",
   "nbconvert_exporter": "python",
   "pygments_lexer": "ipython3",
   "version": "3.7.3"
  }
 },
 "nbformat": 4,
 "nbformat_minor": 2
}
